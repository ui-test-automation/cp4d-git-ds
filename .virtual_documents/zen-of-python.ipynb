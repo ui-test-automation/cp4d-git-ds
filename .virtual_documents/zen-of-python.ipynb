import this


from ibm_watson_studio_lib import access_project_or_space
wslib = access_project_or_space()

import pandas as pd

df_data_1 = pd.read_csv(wslib.mount.get_data_path('Elnino.csv'))
df_data_1.head()



df_data_2 = pd.read_csv(wslib.mount.get_data_path('Elnino.csv'))
df_data_2.head()





df_data_3 = pd.read_excel(wslib.mount.get_data_path('financial_sample.xlsx'))
df_data_3.head()

