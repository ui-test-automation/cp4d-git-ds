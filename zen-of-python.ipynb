{
 "cells": [
  {
   "cell_type": "code",
   "execution_count": 1,
   "id": "grand-necklace",
   "metadata": {
    "id": "a35b76bf-9d62-411d-b266-d1023279bec1",
    "tags": []
   },
   "outputs": [
    {
     "name": "stdout",
     "output_type": "stream",
     "text": [
      "The Zen of Python, by Tim Peters\n",
      "\n",
      "Beautiful is better than ugly.\n",
      "Explicit is better than implicit.\n",
      "Simple is better than complex.\n",
      "Complex is better than complicated.\n",
      "Flat is better than nested.\n",
      "Sparse is better than dense.\n",
      "Readability counts.\n",
      "Special cases aren't special enough to break the rules.\n",
      "Although practicality beats purity.\n",
      "Errors should never pass silently.\n",
      "Unless explicitly silenced.\n",
      "In the face of ambiguity, refuse the temptation to guess.\n",
      "There should be one-- and preferably only one --obvious way to do it.\n",
      "Although that way may not be obvious at first unless you're Dutch.\n",
      "Now is better than never.\n",
      "Although never is often better than *right* now.\n",
      "If the implementation is hard to explain, it's a bad idea.\n",
      "If the implementation is easy to explain, it may be a good idea.\n",
      "Namespaces are one honking great idea -- let's do more of those!\n"
     ]
    }
   ],
   "source": [
    "import this"
   ]
  },
  {
   "cell_type": "code",
   "execution_count": 2,
   "id": "bearing-hardware",
   "metadata": {
    "id": "42a45b9d-8d7b-4231-8957-9d66a3880487",
    "tags": []
   },
   "outputs": [
    {
     "data": {
      "text/html": [
       "<div>\n",
       "<style scoped>\n",
       "    .dataframe tbody tr th:only-of-type {\n",
       "        vertical-align: middle;\n",
       "    }\n",
       "\n",
       "    .dataframe tbody tr th {\n",
       "        vertical-align: top;\n",
       "    }\n",
       "\n",
       "    .dataframe thead th {\n",
       "        text-align: right;\n",
       "    }\n",
       "</style>\n",
       "<table border=\"1\" class=\"dataframe\">\n",
       "  <thead>\n",
       "    <tr style=\"text-align: right;\">\n",
       "      <th></th>\n",
       "      <th>buoy_day_ID</th>\n",
       "      <th>buoy</th>\n",
       "      <th>day</th>\n",
       "      <th>latitude</th>\n",
       "      <th>longitude</th>\n",
       "      <th>zon_winds</th>\n",
       "      <th>mer_winds</th>\n",
       "      <th>humidity</th>\n",
       "      <th>airtemp</th>\n",
       "      <th>s_s_temp</th>\n",
       "      <th>text</th>\n",
       "    </tr>\n",
       "  </thead>\n",
       "  <tbody>\n",
       "    <tr>\n",
       "      <th>0</th>\n",
       "      <td>1</td>\n",
       "      <td>1</td>\n",
       "      <td>1</td>\n",
       "      <td>8.96</td>\n",
       "      <td>-140.32</td>\n",
       "      <td>-6.3</td>\n",
       "      <td>-6.4</td>\n",
       "      <td>83.5</td>\n",
       "      <td>27.32</td>\n",
       "      <td>27.57</td>\n",
       "      <td>sea salt</td>\n",
       "    </tr>\n",
       "    <tr>\n",
       "      <th>1</th>\n",
       "      <td>2</td>\n",
       "      <td>1</td>\n",
       "      <td>2</td>\n",
       "      <td>8.95</td>\n",
       "      <td>-140.32</td>\n",
       "      <td>-5.7</td>\n",
       "      <td>-3.6</td>\n",
       "      <td>86.4</td>\n",
       "      <td>26.70</td>\n",
       "      <td>27.62</td>\n",
       "      <td>sea salt</td>\n",
       "    </tr>\n",
       "    <tr>\n",
       "      <th>2</th>\n",
       "      <td>3</td>\n",
       "      <td>1</td>\n",
       "      <td>3</td>\n",
       "      <td>8.96</td>\n",
       "      <td>-140.32</td>\n",
       "      <td>-6.2</td>\n",
       "      <td>-5.8</td>\n",
       "      <td>83.0</td>\n",
       "      <td>27.36</td>\n",
       "      <td>27.68</td>\n",
       "      <td>sea salt</td>\n",
       "    </tr>\n",
       "    <tr>\n",
       "      <th>3</th>\n",
       "      <td>4</td>\n",
       "      <td>1</td>\n",
       "      <td>4</td>\n",
       "      <td>8.96</td>\n",
       "      <td>-140.34</td>\n",
       "      <td>-6.4</td>\n",
       "      <td>-5.3</td>\n",
       "      <td>82.2</td>\n",
       "      <td>27.32</td>\n",
       "      <td>27.70</td>\n",
       "      <td>sea salt</td>\n",
       "    </tr>\n",
       "    <tr>\n",
       "      <th>4</th>\n",
       "      <td>5</td>\n",
       "      <td>1</td>\n",
       "      <td>5</td>\n",
       "      <td>8.96</td>\n",
       "      <td>-140.33</td>\n",
       "      <td>-4.9</td>\n",
       "      <td>-6.2</td>\n",
       "      <td>87.3</td>\n",
       "      <td>27.09</td>\n",
       "      <td>27.85</td>\n",
       "      <td>sea salt</td>\n",
       "    </tr>\n",
       "  </tbody>\n",
       "</table>\n",
       "</div>"
      ],
      "text/plain": [
       "   buoy_day_ID  buoy  day  latitude  longitude  zon_winds  mer_winds  \\\n",
       "0            1     1    1      8.96    -140.32       -6.3       -6.4   \n",
       "1            2     1    2      8.95    -140.32       -5.7       -3.6   \n",
       "2            3     1    3      8.96    -140.32       -6.2       -5.8   \n",
       "3            4     1    4      8.96    -140.34       -6.4       -5.3   \n",
       "4            5     1    5      8.96    -140.33       -4.9       -6.2   \n",
       "\n",
       "   humidity  airtemp  s_s_temp      text  \n",
       "0      83.5    27.32     27.57  sea salt  \n",
       "1      86.4    26.70     27.62  sea salt  \n",
       "2      83.0    27.36     27.68  sea salt  \n",
       "3      82.2    27.32     27.70  sea salt  \n",
       "4      87.3    27.09     27.85  sea salt  "
      ]
     },
     "execution_count": 2,
     "metadata": {},
     "output_type": "execute_result"
    }
   ],
   "source": [
    "from ibm_watson_studio_lib import access_project_or_space\n",
    "wslib = access_project_or_space()\n",
    "\n",
    "import pandas as pd\n",
    "\n",
    "df_data_1 = pd.read_csv(wslib.mount.get_data_path('Elnino.csv'))\n",
    "df_data_1.head()"
   ]
  },
  {
   "cell_type": "code",
   "execution_count": null,
   "id": "killing-institution",
   "metadata": {
    "id": "32bf99e8-8b16-4274-aa71-a99dbf2ba0da"
   },
   "outputs": [],
   "source": []
  }
 ],
 "metadata": {
  "kernelspec": {
   "display_name": "Python 3.7",
   "language": "python",
   "name": "python3"
  },
  "language_info": {
   "codemirror_mode": {
    "name": "ipython",
    "version": 3
   },
   "file_extension": ".py",
   "mimetype": "text/x-python",
   "name": "python",
   "nbconvert_exporter": "python",
   "pygments_lexer": "ipython3",
   "version": "3.7.10"
  }
 },
 "nbformat": 4,
 "nbformat_minor": 5
}
